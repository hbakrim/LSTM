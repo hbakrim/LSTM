{
 "cells": [
  {
   "cell_type": "code",
   "execution_count": 1,
   "metadata": {
    "collapsed": true
   },
   "outputs": [],
   "source": [
    "import pandas as pd\n",
    "from collections import Counter\n",
    "import numpy as np\n",
    "import tensorflow as tf\n",
    "import seaborn as sns\n",
    "import matplotlib.pyplot as plt\n",
    "import re\n",
    "from sklearn.model_selection import train_test_split\n",
    "import itertools\n",
    "\n",
    "color = sns.color_palette()\n",
    "%matplotlib inline"
   ]
  },
  {
   "cell_type": "markdown",
   "metadata": {},
   "source": [
    "# Explore the data\n",
    "\n",
    "The training data contains a row per comment, with an id, the text of the comment, and 6 different labels that we'll try to predict.\n"
   ]
  },
  {
   "cell_type": "code",
   "execution_count": 2,
   "metadata": {
    "scrolled": true
   },
   "outputs": [
    {
     "data": {
      "text/html": [
       "<div>\n",
       "<style>\n",
       "    .dataframe thead tr:only-child th {\n",
       "        text-align: right;\n",
       "    }\n",
       "\n",
       "    .dataframe thead th {\n",
       "        text-align: left;\n",
       "    }\n",
       "\n",
       "    .dataframe tbody tr th {\n",
       "        vertical-align: top;\n",
       "    }\n",
       "</style>\n",
       "<table border=\"1\" class=\"dataframe\">\n",
       "  <thead>\n",
       "    <tr style=\"text-align: right;\">\n",
       "      <th></th>\n",
       "      <th>id</th>\n",
       "      <th>comment_text</th>\n",
       "      <th>toxic</th>\n",
       "      <th>severe_toxic</th>\n",
       "      <th>obscene</th>\n",
       "      <th>threat</th>\n",
       "      <th>insult</th>\n",
       "      <th>identity_hate</th>\n",
       "    </tr>\n",
       "  </thead>\n",
       "  <tbody>\n",
       "    <tr>\n",
       "      <th>0</th>\n",
       "      <td>0000997932d777bf</td>\n",
       "      <td>Explanation\\nWhy the edits made under my usern...</td>\n",
       "      <td>0</td>\n",
       "      <td>0</td>\n",
       "      <td>0</td>\n",
       "      <td>0</td>\n",
       "      <td>0</td>\n",
       "      <td>0</td>\n",
       "    </tr>\n",
       "    <tr>\n",
       "      <th>1</th>\n",
       "      <td>000103f0d9cfb60f</td>\n",
       "      <td>D'aww! He matches this background colour I'm s...</td>\n",
       "      <td>0</td>\n",
       "      <td>0</td>\n",
       "      <td>0</td>\n",
       "      <td>0</td>\n",
       "      <td>0</td>\n",
       "      <td>0</td>\n",
       "    </tr>\n",
       "    <tr>\n",
       "      <th>2</th>\n",
       "      <td>000113f07ec002fd</td>\n",
       "      <td>Hey man, I'm really not trying to edit war. It...</td>\n",
       "      <td>0</td>\n",
       "      <td>0</td>\n",
       "      <td>0</td>\n",
       "      <td>0</td>\n",
       "      <td>0</td>\n",
       "      <td>0</td>\n",
       "    </tr>\n",
       "    <tr>\n",
       "      <th>3</th>\n",
       "      <td>0001b41b1c6bb37e</td>\n",
       "      <td>\"\\nMore\\nI can't make any real suggestions on ...</td>\n",
       "      <td>0</td>\n",
       "      <td>0</td>\n",
       "      <td>0</td>\n",
       "      <td>0</td>\n",
       "      <td>0</td>\n",
       "      <td>0</td>\n",
       "    </tr>\n",
       "    <tr>\n",
       "      <th>4</th>\n",
       "      <td>0001d958c54c6e35</td>\n",
       "      <td>You, sir, are my hero. Any chance you remember...</td>\n",
       "      <td>0</td>\n",
       "      <td>0</td>\n",
       "      <td>0</td>\n",
       "      <td>0</td>\n",
       "      <td>0</td>\n",
       "      <td>0</td>\n",
       "    </tr>\n",
       "  </tbody>\n",
       "</table>\n",
       "</div>"
      ],
      "text/plain": [
       "                 id                                       comment_text  toxic  \\\n",
       "0  0000997932d777bf  Explanation\\nWhy the edits made under my usern...      0   \n",
       "1  000103f0d9cfb60f  D'aww! He matches this background colour I'm s...      0   \n",
       "2  000113f07ec002fd  Hey man, I'm really not trying to edit war. It...      0   \n",
       "3  0001b41b1c6bb37e  \"\\nMore\\nI can't make any real suggestions on ...      0   \n",
       "4  0001d958c54c6e35  You, sir, are my hero. Any chance you remember...      0   \n",
       "\n",
       "   severe_toxic  obscene  threat  insult  identity_hate  \n",
       "0             0        0       0       0              0  \n",
       "1             0        0       0       0              0  \n",
       "2             0        0       0       0              0  \n",
       "3             0        0       0       0              0  \n",
       "4             0        0       0       0              0  "
      ]
     },
     "execution_count": 2,
     "metadata": {},
     "output_type": "execute_result"
    }
   ],
   "source": [
    "ddf = pd.read_csv('train.csv', header=0)\n",
    "ddf.head()"
   ]
  },
  {
   "cell_type": "markdown",
   "metadata": {},
   "source": [
    "A common preprocessing step is to check for missing values (nulls), and fill them with something before proceeding to the next steps. If you leave the null values intact, it will trip you up at the modelling stage late"
   ]
  },
  {
   "cell_type": "code",
   "execution_count": 3,
   "metadata": {},
   "outputs": [
    {
     "name": "stdout",
     "output_type": "stream",
     "text": [
      "Check for missing values in Train dataset\n",
      "id               0\n",
      "comment_text     0\n",
      "toxic            0\n",
      "severe_toxic     0\n",
      "obscene          0\n",
      "threat           0\n",
      "insult           0\n",
      "identity_hate    0\n",
      "dtype: int64\n"
     ]
    }
   ],
   "source": [
    "# Check for missing values in Train dataset ( 0 for no-missing value)\n",
    "print(\"Check for missing values in Train dataset\")\n",
    "null_check=ddf.isnull().sum()\n",
    "print(null_check)"
   ]
  },
  {
   "cell_type": "code",
   "execution_count": 4,
   "metadata": {},
   "outputs": [
    {
     "data": {
      "text/plain": [
       "\"Explanation\\nWhy the edits made under my username Hardcore Metallica Fan were reverted? They weren't vandalisms, just closure on some GAs after I voted at New York Dolls FAC. And please don't remove the template from the talk page since I'm retired now.89.205.38.27\""
      ]
     },
     "execution_count": 4,
     "metadata": {},
     "output_type": "execute_result"
    }
   ],
   "source": [
    "# Here's an example of comments with toxic label.\n",
    "ddf.comment_text[0]"
   ]
  },
  {
   "cell_type": "markdown",
   "metadata": {},
   "source": [
    "We get the lenght of commnet texts and plot the occurence"
   ]
  },
  {
   "cell_type": "code",
   "execution_count": 5,
   "metadata": {},
   "outputs": [
    {
     "name": "stdout",
     "output_type": "stream",
     "text": [
      "mean =  394.073221325\n",
      "deviation =  590.720281905\n",
      "maximum =  5000\n"
     ]
    },
    {
     "data": {
      "text/plain": [
       "Text(0.5,0,'text lenght ')"
      ]
     },
     "execution_count": 5,
     "metadata": {},
     "output_type": "execute_result"
    },
    {
     "data": {
      "image/png": "[encoded data removed]",
      "text/plain": [
       "<matplotlib.figure.Figure at 0x2587ff61b38>"
      ]
     },
     "metadata": {},
     "output_type": "display_data"
    }
   ],
   "source": [
    "lens = ddf.comment_text.str.len()\n",
    "print(\"mean = \", lens.mean())\n",
    "print(\"deviation = \", lens.std())\n",
    "print(\"maximum = \", lens.max()) \n",
    "lens.hist(alpha=0.8)\n",
    "plt.ylabel('# of Occurrences', fontsize=12)\n",
    "plt.xlabel('text lenght ', fontsize=12)"
   ]
  },
  {
   "cell_type": "markdown",
   "metadata": {},
   "source": [
    "The maximum of text length is about 5000 word. we plot the number of occurence of each class"
   ]
  },
  {
   "cell_type": "code",
   "execution_count": 6,
   "metadata": {},
   "outputs": [
    {
     "data": {
      "image/png": "[encoded data removed]",
      "text/plain": [
       "<matplotlib.figure.Figure at 0x2580287cef0>"
      ]
     },
     "metadata": {},
     "output_type": "display_data"
    }
   ],
   "source": [
    "serie=ddf.iloc[:,2:].sum()\n",
    "plt.figure(figsize=(12,8)) \n",
    "# Data to plot\n",
    "labels = 'toxic', 'severe_toxic', 'obscene', 'threat', 'insult', 'identity_hate'\n",
    "sizes = serie.values\n",
    "colors = ['gold', 'yellowgreen', 'lightcoral', 'lightskyblue', 'blue', 'green']\n",
    "explode = (0.1, 0, 0, 0, 0, 0)  # explode 1st slice\n",
    " \n",
    "# Plot\n",
    "plt.pie(sizes, labels=labels, explode=explode, colors=colors, autopct='%1.1f%%', shadow=True, startangle=140)\n",
    " \n",
    "plt.axis('equal')\n",
    "plt.show()"
   ]
  },
  {
   "cell_type": "markdown",
   "metadata": {},
   "source": [
    "The 6 classes are not repeated uniformly. We should check if there are the multitags cases !"
   ]
  },
  {
   "cell_type": "code",
   "execution_count": 7,
   "metadata": {},
   "outputs": [
    {
     "data": {
      "image/png": "[encoded data removed]",
      "text/plain": [
       "<matplotlib.figure.Figure at 0x25801fbe240>"
      ]
     },
     "metadata": {},
     "output_type": "display_data"
    }
   ],
   "source": [
    "rowsums=ddf.iloc[:,2:].sum(axis=1)\n",
    "x=rowsums.value_counts()\n",
    "\n",
    "#plot\n",
    "plt.figure(figsize=(12,6))\n",
    "ax = sns.barplot(x.index, x.values, alpha=0.8)\n",
    "plt.title(\"Multiple tags per comment\")\n",
    "plt.ylabel('Number of Occurrences', fontsize=12)\n",
    "plt.xlabel('Number of tags ', fontsize=12)\n",
    "\n",
    "#adding the text labels\n",
    "rects = ax.patches\n",
    "labels = x.values\n",
    "for rect, label in zip(rects, labels):\n",
    "    height = rect.get_height()\n",
    "    ax.text(rect.get_x() + rect.get_width()/2, height + 5, label, ha='center', va='bottom')"
   ]
  },
  {
   "cell_type": "markdown",
   "metadata": {},
   "source": [
    "We see that the majority have no tags. 20 of samples have all tags."
   ]
  },
  {
   "cell_type": "markdown",
   "metadata": {},
   "source": [
    "# Data processing"
   ]
  },
  {
   "cell_type": "code",
   "execution_count": 8,
   "metadata": {
    "collapsed": true
   },
   "outputs": [],
   "source": [
    "# This module use regex in order to clean a text in dataframe df\n",
    "def clean_up(text) :\n",
    "    return re.sub(r'[\\W]', ' ', text.lower() )"
   ]
  },
  {
   "cell_type": "code",
   "execution_count": 9,
   "metadata": {},
   "outputs": [
    {
     "name": "stdout",
     "output_type": "stream",
     "text": [
      "159571\n"
     ]
    },
    {
     "data": {
      "text/html": [
       "<div>\n",
       "<style>\n",
       "    .dataframe thead tr:only-child th {\n",
       "        text-align: right;\n",
       "    }\n",
       "\n",
       "    .dataframe thead th {\n",
       "        text-align: left;\n",
       "    }\n",
       "\n",
       "    .dataframe tbody tr th {\n",
       "        vertical-align: top;\n",
       "    }\n",
       "</style>\n",
       "<table border=\"1\" class=\"dataframe\">\n",
       "  <thead>\n",
       "    <tr style=\"text-align: right;\">\n",
       "      <th></th>\n",
       "      <th>comment_text</th>\n",
       "      <th>labels</th>\n",
       "    </tr>\n",
       "  </thead>\n",
       "  <tbody>\n",
       "    <tr>\n",
       "      <th>0</th>\n",
       "      <td>explanation why the edits made under my userna...</td>\n",
       "      <td>[0, 0, 0, 0, 0, 0]</td>\n",
       "    </tr>\n",
       "    <tr>\n",
       "      <th>1</th>\n",
       "      <td>d aww  he matches this background colour i m s...</td>\n",
       "      <td>[0, 0, 0, 0, 0, 0]</td>\n",
       "    </tr>\n",
       "    <tr>\n",
       "      <th>2</th>\n",
       "      <td>hey man  i m really not trying to edit war  it...</td>\n",
       "      <td>[0, 0, 0, 0, 0, 0]</td>\n",
       "    </tr>\n",
       "    <tr>\n",
       "      <th>3</th>\n",
       "      <td>more i can t make any real suggestions on im...</td>\n",
       "      <td>[0, 0, 0, 0, 0, 0]</td>\n",
       "    </tr>\n",
       "    <tr>\n",
       "      <th>4</th>\n",
       "      <td>you  sir  are my hero  any chance you remember...</td>\n",
       "      <td>[0, 0, 0, 0, 0, 0]</td>\n",
       "    </tr>\n",
       "  </tbody>\n",
       "</table>\n",
       "</div>"
      ],
      "text/plain": [
       "                                        comment_text              labels\n",
       "0  explanation why the edits made under my userna...  [0, 0, 0, 0, 0, 0]\n",
       "1  d aww  he matches this background colour i m s...  [0, 0, 0, 0, 0, 0]\n",
       "2  hey man  i m really not trying to edit war  it...  [0, 0, 0, 0, 0, 0]\n",
       "3    more i can t make any real suggestions on im...  [0, 0, 0, 0, 0, 0]\n",
       "4  you  sir  are my hero  any chance you remember...  [0, 0, 0, 0, 0, 0]"
      ]
     },
     "execution_count": 9,
     "metadata": {},
     "output_type": "execute_result"
    }
   ],
   "source": [
    "# We create a new label as a vector of set of tags\n",
    "labels = []\n",
    "for a,b,c,d,e,f in zip(ddf['toxic'], ddf['severe_toxic'], ddf['obscene'], ddf['threat'], ddf['insult'], \n",
    "                       ddf['identity_hate']): \n",
    "    labels.append([a,b,c,d,e,f])\n",
    "\n",
    "\n",
    "# create a new dataframe with 'comment_text' and 'labels' columns\n",
    "df1 = pd.concat([ddf['comment_text'], pd.DataFrame({'labels': labels})], axis = 1)\n",
    "\n",
    "# and clean a 'comment_text' column\n",
    "df1['comment_text'] = df1['comment_text'].apply(clean_up)\n",
    "print(len(df1))\n",
    "\n",
    "# find the duplicate rows\n",
    "dupl_rows = df1.loc[df1.comment_text.duplicated(keep='first'), :]\n",
    "\n",
    "# get the list index of duplicate rows\n",
    "list_dupl_rows = dupl_rows.index.tolist()\n",
    "\n",
    "# remove the duplicate rows\n",
    "df1 = df1.drop(df1.index[list_dupl_rows])\n",
    "\n",
    "\n",
    "df1.head()"
   ]
  },
  {
   "cell_type": "code",
   "execution_count": 10,
   "metadata": {},
   "outputs": [
    {
     "data": {
      "image/png": "[encoded data removed]",
      "text/plain": [
       "<matplotlib.figure.Figure at 0x2587ff61080>"
      ]
     },
     "metadata": {},
     "output_type": "display_data"
    }
   ],
   "source": [
    "# We get the lenght of commnet texts and plot the occurence after cleaning\n",
    "listo = [len(sentence.split()) for sentence in df1['comment_text']]\n",
    "plt.hist(listo, bins = np.arange(0,900,20), normed=1, facecolor='green', alpha=0.75)\n",
    "plt.show()"
   ]
  },
  {
   "cell_type": "markdown",
   "metadata": {},
   "source": [
    "# LSTM model"
   ]
  },
  {
   "cell_type": "markdown",
   "metadata": {},
   "source": [
    "The approach that we are taking is to feed the comments into the LSTM as part of the neural network but we can't just feed the words as it is. \n",
    "\n",
    "So this is what we are going to do:\n",
    "\n",
    "    - We need to break down the sentence into unique words. For eg, \"The sky is blue and the forest is green\" will become [\"The\", \"sky\", \"is\", \"blue\", \"and\", \"the\", \"forest\", \"is\", \"green\"]\n",
    "    - We put the words in a dictionary-like structure and give them an index each. For eg, {1: \"The\", 2: \"sky\", 3: \"is\", 4: \"blue\", 5: \"and\", 6: \"forest\", 7: \"green\"}. A way to find the index is to assign a unique integer to each symbol based on frequency of occurrence\n",
    "    - We could represent the sequence of words in the comments in the form of index, and feed this chain of index into our LSTM. For eg, [1,2,3,4,5,1,6,3,7]\n",
    "\n"
   ]
  },
  {
   "cell_type": "code",
   "execution_count": 11,
   "metadata": {
    "collapsed": true
   },
   "outputs": [],
   "source": [
    "# the next module creates a list of unique words in all comment text of dataframe\n",
    "def get_words(column):\n",
    "    lista = [ elt.split() for elt in column ]\n",
    "    list_of_words = list( itertools.chain.from_iterable(lista) )\n",
    "    \n",
    "    return list_of_words"
   ]
  },
  {
   "cell_type": "code",
   "execution_count": 12,
   "metadata": {
    "collapsed": true
   },
   "outputs": [],
   "source": [
    "# this module creates from text, a dictionary = {word: # of occurence in the text}\n",
    "def dic_word_int(text):\n",
    "    counts = Counter(text) # counts = {# of occurence in the text: word}\n",
    "    vocab = sorted(counts, key=counts.get, reverse=True) # vocab = 'counts' sorted on descending occurence\n",
    "    vocab_to_int = {word: ii for ii, word in enumerate(vocab, 1)} # vocab_to_int = the inverse of 'vocab'\n",
    "\n",
    "    return vocab_to_int"
   ]
  },
  {
   "cell_type": "markdown",
   "metadata": {},
   "source": [
    "We have to feed a stream of data that has a same length. We put the maximum length of sentence to 'seq_len'. For sentence which its length is less than this limite, we fill the shortfall by zeros ('padding').\n",
    "\n",
    "\n",
    "\n",
    "If we put 'seq_len' too short, we might lose some useful feature that could cost us some accuracy points down the path. If we put it too long, our LSTM cell will have to be larger to store the possible values or states.\n",
    "\n",
    "One of the ways to go about it is to use the histogram of sentences lengths showen above.\n",
    "\n",
    "We see that the most sentences length is about 'seq_len=100'. but we could experiment and see what is the best length.\n"
   ]
  },
  {
   "cell_type": "code",
   "execution_count": 13,
   "metadata": {
    "collapsed": true
   },
   "outputs": [],
   "source": [
    "# This module builds new features and labels that we'll used in the model \n",
    "def extract_features(data_x, data_y, vocab_to_int, seq_len):\n",
    "    text_ints = []\n",
    "    vec = []\n",
    "    for elt, sub in zip(data_x, data_y):\n",
    "        # transforms each comment on vector of the occurence of words in each comment: 'list of the lists'\n",
    "        text_ints.append([vocab_to_int[word] for word in elt.split()]) \n",
    "        # transforms labels on list of labels : [ [0,0,0,1,0,0], [0,0,0,1,1,1], [0,0,0,,0,0], ... ]\n",
    "        vec.append([indice for indice in sub])\n",
    "    \n",
    "    # We limite the number of words on each comment in 'seq_len'. \n",
    "    # each 'word' will be a feature and will be identified by its occurence in the 'comment_text'\n",
    "    # Sentences wich lenght is less than 'seq_len', should be padded with zeros\n",
    "    features = np.zeros((len(text_ints), seq_len), dtype=int)\n",
    "    labels = np.zeros((len(text_ints), 6), dtype=int)\n",
    "    \n",
    "    for i, row in enumerate(text_ints):\n",
    "        # We take the last 'seq_len' words of each comment. The order of words is reversed in 'features'.\n",
    "        features[i, -len(row):] = np.array(row)[:seq_len]\n",
    "        \n",
    "    for i, sub in enumerate(vec):\n",
    "        labels[i, :] = np.array(sub)[:]\n",
    "         \n",
    "        \n",
    "    return features, labels"
   ]
  },
  {
   "cell_type": "code",
   "execution_count": 14,
   "metadata": {
    "collapsed": true
   },
   "outputs": [],
   "source": [
    "# get the unique words from comment_text\n",
    "words = get_words(df1['comment_text'])\n",
    "\n",
    "# get a 'vocab_to_int' = {word: # of occurence in 'words}. The number of occurence is descending\n",
    "vocab_to_int = dic_word_int(words)"
   ]
  },
  {
   "cell_type": "markdown",
   "metadata": {},
   "source": [
    "Next, we pass it to our Embedding layer, where we project the words to a defined vector space depending on the distance of the surrounding words in a sentence. Embedding allows us to reduce model size and most importantly the huge dimensions we have to deal with, in the case of using one-hot encoding to represent the words in our sentence."
   ]
  },
  {
   "cell_type": "code",
   "execution_count": 15,
   "metadata": {
    "collapsed": true
   },
   "outputs": [],
   "source": [
    "# We'll split the dataframe on train set (80%) and validation set (20%). \n",
    "# This validation set will be used to assess whether the model has overfitted, for each batch.\n",
    "x_train, x_val, y_train, y_val = train_test_split(df1['comment_text'], df1['labels'], test_size=0.20, random_state=42)"
   ]
  },
  {
   "cell_type": "code",
   "execution_count": 16,
   "metadata": {
    "collapsed": true
   },
   "outputs": [],
   "source": [
    "# Create the new features and labels\n",
    "seq_len = 100\n",
    "train_x, train_y = extract_features(x_train, y_train, vocab_to_int, seq_len)\n",
    "val_x, val_y =  extract_features(x_val, y_val, vocab_to_int, seq_len)"
   ]
  },
  {
   "cell_type": "code",
   "execution_count": 17,
   "metadata": {},
   "outputs": [
    {
     "name": "stdout",
     "output_type": "stream",
     "text": [
      "(127576, 6)\n",
      "(31895, 6)\n"
     ]
    }
   ],
   "source": [
    "print(train_y.shape)\n",
    "print(val_y.shape)"
   ]
  },
  {
   "cell_type": "markdown",
   "metadata": {},
   "source": [
    "## Tensorflow"
   ]
  },
  {
   "cell_type": "code",
   "execution_count": 18,
   "metadata": {
    "collapsed": true
   },
   "outputs": [],
   "source": [
    "lstm_size = 256 # number of units in LSTM cell\n",
    "lstm_layers = 1 # number of hidden layer\n",
    "batch_size = 512 # number of batches\n",
    "output_layer_size = 6 # number of classes\n",
    "learning_rate = 0.001 # learning_rate\n",
    "embed_size = 50 # Size of the embedding vectors (number of units in the embedding layer)\n",
    "n_words = len(vocab_to_int) + 1 # Adding 1 because we use 0's for padding, dictionary started at 1\n",
    "epochs = 10 # the number of time we'll train all data "
   ]
  },
  {
   "cell_type": "code",
   "execution_count": 19,
   "metadata": {
    "collapsed": true
   },
   "outputs": [],
   "source": [
    "# we create the batches from 'permutation' of all samples\n",
    "def get_batches(x, y, batch_size, seed):\n",
    "    \n",
    "    np.random.seed(seed)\n",
    "    \n",
    "    m = np.shape(y)[0]\n",
    "    permutation = np.random.permutation(m)\n",
    "    x, y = x[permutation], y[permutation]\n",
    "    \n",
    "    # number of batchs. We use only batches with same size: the rest of (m/batch_size) will be ignored \n",
    "    n_batches = m //batch_size\n",
    "    \n",
    "    x, y = x[: n_batches * batch_size], y[: n_batches * batch_size]\n",
    "    for k in range(0, len(x), batch_size):\n",
    "        yield x[k: k + batch_size], y[k: k + batch_size]"
   ]
  },
  {
   "cell_type": "code",
   "execution_count": 20,
   "metadata": {
    "collapsed": true
   },
   "outputs": [],
   "source": [
    "# this module will give the accuracy of predictions\n",
    "def predict(Z, Y):\n",
    "    # return a tensor of ones if the elements is > 0.5, otherwise zeros\n",
    "    ZZ = tf.cast(tf.where( Z > 0.5, tf.ones(tf.shape(Z)), tf.zeros(tf.shape(Z)), name=None ), tf.int32)\n",
    "    \n",
    "    # compare the predicted tensor ZZ and the truth tensor Y: retun tensor of 0 (flase) and 1 (true) \n",
    "    comparaison = tf.cast(tf.equal(ZZ, Y), tf.int32) \n",
    "    \n",
    "    # map function gives the sum of each element of 'comparaison'\n",
    "    A = tf.map_fn(lambda x: tf.reduce_sum(x), comparaison)\n",
    "\n",
    "    F = tf.where( A >= tf.shape(Z)[1], tf.ones(tf.shape(A)), tf.zeros(tf.shape(A)), name=None )\n",
    "    \n",
    "    # get the lenght of Z\n",
    "    m = tf.cast(tf.shape(Z)[0], tf.float32)\n",
    "     \n",
    "    accura = 100 * tf.reduce_sum(F) / m\n",
    "    \n",
    "    return accura"
   ]
  },
  {
   "cell_type": "markdown",
   "metadata": {},
   "source": [
    "<img src=\"fig1.png\" style=\"width:650px;height:1200;\">"
   ]
  },
  {
   "cell_type": "code",
   "execution_count": 21,
   "metadata": {
    "collapsed": true
   },
   "outputs": [],
   "source": [
    "# Let's build the graph of tensorflow\n",
    "graph = tf.Graph() # get the instance\n",
    "\n",
    "# Add nodes to the graph\n",
    "with graph.as_default():\n",
    "    # create instances for the imputs, labels and the probability of drop out\n",
    "    inputs_ = tf.placeholder(tf.int32, [None, None], name='inputs')\n",
    "    labels_ = tf.placeholder(tf.int32, [None, None], name='labels')\n",
    "    keep_prob = tf.placeholder(tf.float32, name='keep_prob') \n",
    "\n",
    "    # create instances for embedding tensor with shape (n_words, embed_size)\n",
    "    # each word from 'n_words' will be represented by vector with size 'embed_size' \n",
    "    # the initialization will be done through uniform distribution\n",
    "    embedding = tf.Variable(tf.random_uniform((n_words, embed_size), -1, 1))\n",
    "    \n",
    "    # With 'embed', we project the words of 'inputs_' to a defined vector space depending on the distance of \n",
    "    # the surrounding words in a sentence. The output 'embed' is just a list of the coordinates \n",
    "    # of the words in this vector space.\n",
    "    embed = tf.nn.embedding_lookup(embedding, inputs_)\n",
    "    \n",
    "    # The basic LSTM cell with 'lstm_size' units\n",
    "    lstm = tf.contrib.rnn.BasicLSTMCell(lstm_size)\n",
    "    \n",
    "    # Add dropout to the cell\n",
    "    drop = tf.contrib.rnn.DropoutWrapper(lstm, output_keep_prob=keep_prob)\n",
    "    \n",
    "    # Stack up multiple LSTM layers, for deep learning\n",
    "    cell = tf.contrib.rnn.MultiRNNCell([drop] * lstm_layers)\n",
    "    \n",
    "    # Getting an initial state of all zeros. This is the memory of LSTM cell\n",
    "    initial_state = cell.zero_state(batch_size, tf.float32)\n",
    "    \n",
    "    outputs, final_state = tf.nn.dynamic_rnn(cell, embed,initial_state=initial_state)\n",
    "    \n",
    "    # We connect the outputs to a densely connected layer and the output passes through a sigmoid functions.\n",
    "    # The reason why sigmoid is used is because we are trying to achieve a binary classification(1,0) \n",
    "    # for each of the 6 tags, and the sigmoid function will squash the output between the bounds of 0 and 1.\n",
    "    predictions = tf.contrib.layers.fully_connected(inputs=outputs[:, -1], num_outputs = output_layer_size, \n",
    "                                                    activation_fn=tf.sigmoid)\n",
    "    \n",
    "    # We have set our model to optimize our loss function using Adam optimizer, define the loss function to \n",
    "    # be \"binary_crossentropy\" since we are tackling a binary classification. \n",
    "    cost = tf.losses.sigmoid_cross_entropy(labels_, predictions)\n",
    "    optimizer = tf.train.AdamOptimizer(learning_rate).minimize(cost)\n",
    "    \n",
    "    # We get accuracy from comparing between predictions given by the model and the labels\n",
    "    accuracy = predict(predictions, labels_)\n",
    "    \n",
    "    # create 'Save' instance in order to save the model\n",
    "    saver = tf.train.Saver()"
   ]
  },
  {
   "cell_type": "code",
   "execution_count": 22,
   "metadata": {},
   "outputs": [
    {
     "name": "stdout",
     "output_type": "stream",
     "text": [
      "Epoch: 0/10 Iteration: 100 Train loss: 0.6932229995727539\n",
      "Epoch: 0/10 Iteration: 200 Train loss: 0.6931931376457214\n",
      "Epoch: 1/10 Iteration: 300 Train loss: 0.6931735873222351\n",
      "Epoch: 1/10 Iteration: 400 Train loss: 0.6931633353233337\n",
      "Epoch: 2/10 Iteration: 500 Train loss: 0.694130003452301\n",
      "Val acc: 89.6484375\n",
      "Epoch: 2/10 Iteration: 600 Train loss: 0.6931567788124084\n",
      "Epoch: 2/10 Iteration: 700 Train loss: 0.6931557655334473\n",
      "Epoch: 3/10 Iteration: 800 Train loss: 0.6931532025337219\n",
      "Epoch: 3/10 Iteration: 900 Train loss: 0.6931517720222473\n",
      "Epoch: 4/10 Iteration: 1000 Train loss: 0.6931514143943787\n",
      "Val acc: 89.63268280029297\n",
      "Epoch: 4/10 Iteration: 1100 Train loss: 0.6931508183479309\n",
      "Epoch: 4/10 Iteration: 1200 Train loss: 0.693149745464325\n",
      "Epoch: 5/10 Iteration: 1300 Train loss: 0.6931502223014832\n",
      "Epoch: 5/10 Iteration: 1400 Train loss: 0.6931493878364563\n",
      "Epoch: 6/10 Iteration: 1500 Train loss: 0.6931487917900085\n",
      "Val acc: 89.62638854980469\n",
      "Epoch: 6/10 Iteration: 1600 Train loss: 0.6931483745574951\n",
      "Epoch: 6/10 Iteration: 1700 Train loss: 0.6931485533714294\n",
      "Epoch: 7/10 Iteration: 1800 Train loss: 0.6931483149528503\n",
      "Epoch: 7/10 Iteration: 1900 Train loss: 0.6931483149528503\n",
      "Epoch: 8/10 Iteration: 2000 Train loss: 0.6931481957435608\n",
      "Val acc: 89.64213562011719\n",
      "Epoch: 8/10 Iteration: 2100 Train loss: 0.6931477189064026\n",
      "Epoch: 8/10 Iteration: 2200 Train loss: 0.6931478977203369\n",
      "Epoch: 9/10 Iteration: 2300 Train loss: 0.6931478381156921\n",
      "Epoch: 9/10 Iteration: 2400 Train loss: 0.693147599697113\n"
     ]
    }
   ],
   "source": [
    "# create the file name in which we save the model\n",
    "save_file = 'models/toxic_tensorflow_model.ckpt'\n",
    "\n",
    "# create the tensorflow session with previous graph\n",
    "with tf.Session(graph=graph) as sess:\n",
    "    sess.run(tf.global_variables_initializer()) # initialize all variables\n",
    "    iteration = 1\n",
    "    epoch_loss = [] # list to store all losse values\n",
    "    seed = 0\n",
    "    for epoch in range(epochs):\n",
    "        state = sess.run(initial_state)\n",
    "        seed += 1\n",
    "        \n",
    "        # for each batche in training data set\n",
    "        for ii, (x, y) in enumerate(get_batches(train_x, train_y, batch_size, seed), 1):\n",
    "            \n",
    "            # create a dictionary of inputs 'x', labels 'y' and a fixed probability value of the number \n",
    "            # of unit in LSTM cell to drop out\n",
    "            feed = {inputs_: x, labels_: y, keep_prob: 0.5, initial_state: state}\n",
    "            # Run the nodes 'cost', 'final_state' and 'optimizer' to get the 'loss' and the 'state'\n",
    "            loss, state, _ = sess.run([cost, final_state, optimizer], feed_dict=feed)\n",
    "            \n",
    "            \n",
    "            epoch_loss.append(loss) # store the loss\n",
    "            if iteration%100==0: # Show the loss after each 100 iterations\n",
    "                print(\"Epoch: {}/{}\".format(epoch, epochs),\n",
    "                      \"Iteration: {}\".format(iteration),\n",
    "                      \"Train loss: {}\".format(loss))\n",
    "\n",
    "            if iteration%500==0: # After 500 iteration, get the accuracy of the validation data set\n",
    "                val_acc = [] # list to store validation accuracy\n",
    "                val_state = sess.run(cell.zero_state(batch_size, tf.float32)) # initialise the memory state to 0\n",
    "                \n",
    "                # for each batche in validation data set \n",
    "                for x, y in get_batches(val_x, val_y, batch_size, seed):\n",
    "                    # create a 'feed' dictionary\n",
    "                    feed = {inputs_: x, labels_: y, keep_prob: 1, initial_state: val_state}\n",
    "                    # Run the nodes 'accuracy' and 'final_state' to get the accuracy of the batch and the validation state\n",
    "                    batch_acc, val_state = sess.run([accuracy, final_state], feed_dict=feed)\n",
    "                    val_acc.append(batch_acc)\n",
    "                \n",
    "                \n",
    "                print(\"Val acc: {}\".format(np.mean(val_acc))) # Show the mean of accuracy \n",
    "            iteration +=1\n",
    "    # save the model\n",
    "    saver.save(sess, save_file)"
   ]
  },
  {
   "cell_type": "markdown",
   "metadata": {},
   "source": [
    "After 10 epochs, we get 89.64% as validation accuracy"
   ]
  },
  {
   "cell_type": "markdown",
   "metadata": {},
   "source": [
    "## Keras\n",
    "With tensorflow, we implemented our own dictionary structure and handle the indexing ourself. In Keras, all the above steps can be done in 4 lines of code. Fortunately, Keras has made our lives so much easier."
   ]
  },
  {
   "cell_type": "code",
   "execution_count": 22,
   "metadata": {},
   "outputs": [
    {
     "name": "stderr",
     "output_type": "stream",
     "text": [
      "Using TensorFlow backend.\n"
     ]
    }
   ],
   "source": [
    "import sys, os, re, csv, codecs, numpy as np, pandas as pd\n",
    "import matplotlib.pyplot as plt\n",
    "%matplotlib inline\n",
    "from keras.preprocessing.text import Tokenizer\n",
    "from keras.preprocessing.sequence import pad_sequences\n",
    "from keras.layers import Dense, Input, LSTM, Embedding, Dropout, Activation\n",
    "from keras.layers import Bidirectional, GlobalMaxPool1D\n",
    "from keras.models import Model\n",
    "from keras import initializers, regularizers, constraints, optimizers, layers"
   ]
  },
  {
   "cell_type": "code",
   "execution_count": 23,
   "metadata": {
    "collapsed": true
   },
   "outputs": [],
   "source": [
    "df2 = ddf\n",
    "\n",
    "# create labels from the tags columns\n",
    "coloumns = [\"toxic\", \"severe_toxic\", \"obscene\", \"threat\", \"insult\", \"identity_hate\"]\n",
    "train_y = df2[coloumns].values\n",
    "\n",
    "# create a list of all sentences in \"comment_text\" coumn\n",
    "train_sentences = df2[\"comment_text\"]"
   ]
  },
  {
   "cell_type": "markdown",
   "metadata": {},
   "source": [
    "Note: In Tensorflow we have used all words given in the texts. Here with Keras, we choose to limite to 2000 first most occurent words"
   ]
  },
  {
   "cell_type": "code",
   "execution_count": 24,
   "metadata": {
    "collapsed": true
   },
   "outputs": [],
   "source": [
    "# We use only the most frequently 'top_words' for simplicity\n",
    "top_words = 20000 \n",
    "\n",
    "# create the instance of 'Tokenizer' with the maximum of dictionary's words\n",
    "tokenizer = Tokenizer(num_words=top_words) \n",
    "\n",
    "# As same as the modules 'def get_words' and 'dic_word_int', the nexte module will create words dictionary from 'sentences'\n",
    "tokenizer.fit_on_texts(list(train_sentences))\n",
    "\n",
    "# transforms each comment on vector of the occurence of words based on the previous dictionary\n",
    "list_tokenized_train = tokenizer.texts_to_sequences(train_sentences)\n",
    "\n",
    "# for sentence wich length is less than 200, fill the reste with 0 (padding)\n",
    "seq_len = 200\n",
    "train_x = pad_sequences(list_tokenized_train, maxlen=seq_len)"
   ]
  },
  {
   "cell_type": "code",
   "execution_count": 25,
   "metadata": {},
   "outputs": [
    {
     "name": "stdout",
     "output_type": "stream",
     "text": [
      "_________________________________________________________________\n",
      "Layer (type)                 Output Shape              Param #   \n",
      "=================================================================\n",
      "embedding_1 (Embedding)      (None, 200, 32)           640000    \n",
      "_________________________________________________________________\n",
      "lstm_1 (LSTM)                (None, 100)               53200     \n",
      "_________________________________________________________________\n",
      "dense_1 (Dense)              (None, 6)                 606       \n",
      "=================================================================\n",
      "Total params: 693,806\n",
      "Trainable params: 693,806\n",
      "Non-trainable params: 0\n",
      "_________________________________________________________________\n",
      "None\n",
      "Train on 143613 samples, validate on 15958 samples\n",
      "Epoch 1/10\n",
      "143613/143613 [==============================] - 1461s 10ms/step - loss: 0.1214 - acc: 0.9668 - val_loss: 0.0666 - val_acc: 0.9761\n",
      "Epoch 2/10\n",
      "143613/143613 [==============================] - 1508s 10ms/step - loss: 0.0601 - acc: 0.9784 - val_loss: 0.0575 - val_acc: 0.9793\n",
      "Epoch 3/10\n",
      "143613/143613 [==============================] - 1517s 11ms/step - loss: 0.0498 - acc: 0.9820 - val_loss: 0.0527 - val_acc: 0.9811\n",
      "Epoch 4/10\n",
      "143613/143613 [==============================] - 1505s 10ms/step - loss: 0.0456 - acc: 0.9830 - val_loss: 0.0516 - val_acc: 0.9812\n",
      "Epoch 5/10\n",
      "143613/143613 [==============================] - 1511s 11ms/step - loss: 0.0435 - acc: 0.9837 - val_loss: 0.0524 - val_acc: 0.9816\n",
      "Epoch 6/10\n",
      "143613/143613 [==============================] - 1503s 10ms/step - loss: 0.0428 - acc: 0.9840 - val_loss: 0.0524 - val_acc: 0.9807\n",
      "Epoch 7/10\n",
      "143613/143613 [==============================] - 1500s 10ms/step - loss: 0.0422 - acc: 0.9842 - val_loss: 0.0530 - val_acc: 0.9814\n",
      "Epoch 8/10\n",
      "143613/143613 [==============================] - 1505s 10ms/step - loss: 0.0399 - acc: 0.9848 - val_loss: 0.0518 - val_acc: 0.9814\n",
      "Epoch 9/10\n",
      "143613/143613 [==============================] - 1503s 10ms/step - loss: 0.0381 - acc: 0.9854 - val_loss: 0.0546 - val_acc: 0.9815\n",
      "Epoch 10/10\n",
      "143613/143613 [==============================] - 1509s 11ms/step - loss: 0.0366 - acc: 0.9860 - val_loss: 0.0541 - val_acc: 0.9812\n"
     ]
    }
   ],
   "source": [
    "# create the model\n",
    "from keras.datasets import imdb\n",
    "from keras.models import Sequential\n",
    "from keras.layers import Dense, LSTM\n",
    "from keras.layers.embeddings import Embedding\n",
    "from keras.preprocessing import sequence\n",
    "\n",
    "\n",
    "\n",
    "# here we'll change some hyperparameters for simplicirty\n",
    "embed_size = 32\n",
    "LSTM_size = 100\n",
    "batch_size=256\n",
    "epochs=10\n",
    "save_file = 'models/toxic_lastm_keras_model.h5'\n",
    "\n",
    "model = Sequential()\n",
    "\n",
    "# enbedding layer\n",
    "model.add(Embedding(top_words, embed_size, input_length=seq_len))\n",
    "\n",
    "# one LSTM layer\n",
    "model.add(LSTM(LSTM_size)) \n",
    "\n",
    "# fully connected layer\n",
    "model.add(Dense(output_layer_size, activation='sigmoid')) \n",
    "\n",
    "# define a loss, potimizer and accuracu functions\n",
    "# we use adam optimizer where the learning rate is 'lr=0.001' by default\n",
    "model.compile(loss='binary_crossentropy', optimizer='adam', metrics=['accuracy']) \n",
    "# we can set:  my_adam = optimizers.Adam(lr=learning_rate) and model.compile(loss='binary_crossentropy', ...)\n",
    "\n",
    "# print the summary of the model\n",
    "print(model.summary())\n",
    "\n",
    "#train the model\n",
    "model.fit(train_x, train_y, epochs=epochs, batch_size=batch_size, validation_split=0.1)\n",
    "\n",
    "# save the model\n",
    "model.save(save_file)"
   ]
  },
  {
   "cell_type": "markdown",
   "metadata": {
    "collapsed": true
   },
   "source": [
    "After 10 epochs, we get 98.12% as validation accuracy which is best than the Tensorflow one. This is due to the fact that in keras, we used only 20000 words (top_words) of the dictionary. But it remains that with keras the data processing and the implementation of the graph are more intuitive than tensorflow"
   ]
  },
  {
   "cell_type": "code",
   "execution_count": null,
   "metadata": {
    "collapsed": true
   },
   "outputs": [],
   "source": []
  }
 ],
 "metadata": {
  "kernelspec": {
   "display_name": "Python 3",
   "language": "python",
   "name": "python3"
  },
  "language_info": {
   "codemirror_mode": {
    "name": "ipython",
    "version": 3
   },
   "file_extension": ".py",
   "mimetype": "text/x-python",
   "name": "python",
   "nbconvert_exporter": "python",
   "pygments_lexer": "ipython3",
   "version": "3.5.3"
  }
 },
 "nbformat": 4,
 "nbformat_minor": 2
}
